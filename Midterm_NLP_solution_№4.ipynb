{
  "cells": [
    {
      "cell_type": "code",
      "execution_count": null,
      "metadata": {
        "id": "YdD-YdJKYPXG",
        "outputId": "6f755ca2-ff55-4b35-c227-bd61fe3da205"
      },
      "outputs": [
        {
          "name": "stderr",
          "output_type": "stream",
          "text": [
            "c:\\Users\\kadyr\\AppData\\Local\\Programs\\Python\\Python312\\Lib\\site-packages\\tqdm\\auto.py:21: TqdmWarning: IProgress not found. Please update jupyter and ipywidgets. See https://ipywidgets.readthedocs.io/en/stable/user_install.html\n",
            "  from .autonotebook import tqdm as notebook_tqdm\n"
          ]
        }
      ],
      "source": [
        "import os\n",
        "import pandas as pd\n",
        "import numpy as np\n",
        "import matplotlib.pyplot as plt\n",
        "import tensorflow as tf\n",
        "from tensorflow.keras.preprocessing.text import Tokenizer\n",
        "from tensorflow.keras.preprocessing.sequence import pad_sequences\n",
        "from tensorflow.keras.models import Sequential\n",
        "from tensorflow.keras.layers import Embedding, LSTM, Dense, Dropout\n",
        "from tensorflow.keras.optimizers import Adam\n",
        "import kagglehub\n",
        "import gc"
      ]
    },
    {
      "cell_type": "code",
      "execution_count": null,
      "metadata": {
        "id": "eXkHmJ9XYPXQ"
      },
      "outputs": [],
      "source": [
        "def load_yelp_data(max_records=5000):\n",
        "    try:\n",
        "        dataset_path = kagglehub.dataset_download(\"omkarsabnis/yelp-reviews-dataset\")\n",
        "\n",
        "        for filename in os.listdir(dataset_path):\n",
        "            if filename.endswith(\".csv\"):\n",
        "                csv_file = os.path.join(dataset_path, filename)\n",
        "                break\n",
        "        else:\n",
        "            raise FileNotFoundError(\"CSV файл не найден в директории загруженного датасета.\")\n",
        "\n",
        "        df = pd.read_csv(csv_file, nrows=max_records)\n",
        "        print(f\"Датасет загружен успешно. Размер: {df.shape}\")\n",
        "\n",
        "        texts = df['text'].str.lower().values\n",
        "        del df\n",
        "        gc.collect()\n",
        "        return texts\n",
        "    except Exception as e:\n",
        "        print(f\"Ошибка при загрузке датасета: {e}\")\n",
        "        return [\"this is a great restaurant\", \"the food was amazing\", \"service was terrible\",\n",
        "                \"I would recommend this place to anyone\", \"the ambiance was nice but the food was not good\"]"
      ]
    },
    {
      "cell_type": "code",
      "execution_count": null,
      "metadata": {
        "id": "4PnasaIpYPXS"
      },
      "outputs": [],
      "source": [
        "# Шаг 2: Предобработка текста с батчами для снижения потребления памяти\n",
        "def preprocess_text(texts, max_sequence_length=20, max_words=3000, max_sequences=30000):\n",
        "    print(f\"Используем {len(texts)} отзывов для обучения\")\n",
        "\n",
        "    tokenizer = Tokenizer(num_words=max_words, oov_token=\"<OOV>\")\n",
        "    tokenizer.fit_on_texts(texts)\n",
        "\n",
        "    total_words = min(max_words, len(tokenizer.word_index) + 1)\n",
        "    print(f\"Общее количество уникальных слов в словаре: {total_words}\")\n",
        "\n",
        "    input_sequences = []\n",
        "    sequence_count = 0\n",
        "\n",
        "    for line in texts:\n",
        "        if not line or not isinstance(line, str):\n",
        "            continue\n",
        "\n",
        "        token_list = tokenizer.texts_to_sequences([line])[0]\n",
        "        if not token_list:\n",
        "            continue\n",
        "\n",
        "        for i in range(1, min(len(token_list), max_sequence_length)):\n",
        "            n_gram_sequence = token_list[:i+1]\n",
        "            input_sequences.append(n_gram_sequence)\n",
        "            sequence_count += 1\n",
        "\n",
        "            if sequence_count >= max_sequences:\n",
        "                break\n",
        "\n",
        "        if sequence_count >= max_sequences:\n",
        "            break\n",
        "\n",
        "    print(f\"Создано {len(input_sequences)} последовательностей\")\n",
        "\n",
        "    # Выравниваем последовательности\n",
        "    max_seq_len = min(max([len(seq) for seq in input_sequences]), max_sequence_length)\n",
        "    padded_sequences = pad_sequences(input_sequences, maxlen=max_seq_len, padding='pre')\n",
        "\n",
        "    # Разделяем на входные и выходные данные для LSTM\n",
        "    X = padded_sequences[:, :-1]\n",
        "    y = padded_sequences[:, -1]  # Используем sparse_categorical_crossentropy\n",
        "\n",
        "    X = X.astype(np.float32)\n",
        "\n",
        "    return X, y, tokenizer, max_seq_len, total_words"
      ]
    },
    {
      "cell_type": "code",
      "execution_count": null,
      "metadata": {
        "id": "yvSEVT6GYPXV"
      },
      "outputs": [],
      "source": [
        "def build_model(total_words, max_sequence_len):\n",
        "\n",
        "    model = Sequential()\n",
        "    model.add(Embedding(total_words, 32))\n",
        "    # Уменьшаем размер LSTM слоя\n",
        "    model.add(LSTM(32))\n",
        "    model.add(Dropout(0.1))\n",
        "\n",
        "    model.add(Dense(total_words))\n",
        "    model.add(tf.keras.layers.Activation('softmax'))\n",
        "\n",
        "    optimizer = Adam(learning_rate=0.01)\n",
        "    model.compile(loss='sparse_categorical_crossentropy',\n",
        "                  optimizer=optimizer,\n",
        "                  metrics=['accuracy'])\n",
        "\n",
        "    model.summary()\n",
        "    return model"
      ]
    },
    {
      "cell_type": "code",
      "execution_count": null,
      "metadata": {
        "id": "qChIc2z4YPXW"
      },
      "outputs": [],
      "source": [
        "def generate_text(seed_text, next_words, model, tokenizer, max_sequence_len, total_words):\n",
        "\n",
        "    for _ in range(next_words):\n",
        "        token_list = tokenizer.texts_to_sequences([seed_text])[0]\n",
        "\n",
        "        if len(token_list) > max_sequence_len-1:\n",
        "            token_list = token_list[-(max_sequence_len-1):]\n",
        "\n",
        "        token_list = pad_sequences([token_list], maxlen=max_sequence_len-1, padding='pre')\n",
        "\n",
        "        predicted_probs = model.predict(token_list, verbose=0)[0]\n",
        "\n",
        "        # Простой подход: просто берем слово с наибольшей вероятностью\n",
        "        predicted_index = np.argmax(predicted_probs)\n",
        "\n",
        "        # Проверяем, что индекс находится в пределах словаря\n",
        "        if predicted_index >= total_words:\n",
        "            continue\n",
        "\n",
        "        # Получаем слово из индекса с помощью обратного словаря\n",
        "        output_word = \"\"\n",
        "        for word, index in tokenizer.word_index.items():\n",
        "            if index == predicted_index:\n",
        "                output_word = word\n",
        "                break\n",
        "\n",
        "        # Добавляем предсказанное слово к начальному тексту\n",
        "        seed_text += \" \" + output_word\n",
        "\n",
        "    return seed_text"
      ]
    },
    {
      "cell_type": "code",
      "execution_count": null,
      "metadata": {
        "id": "b0rhESKDYPXX"
      },
      "outputs": [],
      "source": [
        "def train_with_generator(model, X, y, epochs=10, batch_size=32):\n",
        "    # Создаем генератор данных\n",
        "    def data_generator(X, y, batch_size):\n",
        "        num_samples = len(X)\n",
        "        while True:\n",
        "            indices = np.random.permutation(num_samples)\n",
        "            for i in range(0, num_samples, batch_size):\n",
        "                batch_indices = indices[i:i + batch_size]\n",
        "                yield X[batch_indices], y[batch_indices]\n",
        "\n",
        "    # Обучаем модель с использованием генератора\n",
        "    steps_per_epoch = len(X) // batch_size\n",
        "    history = model.fit(\n",
        "        data_generator(X, y, batch_size),\n",
        "        steps_per_epoch=steps_per_epoch,\n",
        "        epochs=epochs,\n",
        "        verbose=1\n",
        "    )\n",
        "\n",
        "    return history"
      ]
    },
    {
      "cell_type": "code",
      "execution_count": null,
      "metadata": {
        "id": "joypygM5YPXZ"
      },
      "outputs": [],
      "source": [
        "# Основная функция\n",
        "def main():\n",
        "    max_records = 3000\n",
        "    max_words = 3000\n",
        "    max_sequence_length = 20\n",
        "    max_sequences = 30000\n",
        "    batch_size = 32\n",
        "    epochs = 10\n",
        "\n",
        "    print(\"Загрузка данных...\")\n",
        "    texts = load_yelp_data(max_records=max_records)\n",
        "\n",
        "    print(\"\\nПредобработка текста...\")\n",
        "    X, y, tokenizer, max_seq_len, total_words = preprocess_text(\n",
        "        texts,\n",
        "        max_sequence_length=max_sequence_length,\n",
        "        max_words=max_words,\n",
        "        max_sequences=max_sequences\n",
        "    )\n",
        "    print(f\"Форма X: {X.shape}, форма y: {y.shape}\")\n",
        "    print(f\"Размер X в памяти: {X.nbytes / (1024*1024):.2f} МБ\")\n",
        "    print(f\"Размер y в памяти: {y.nbytes / (1024*1024):.2f} МБ\")\n",
        "\n",
        "    # Освобождаем память\n",
        "    del texts\n",
        "    gc.collect()\n",
        "\n",
        "    # Строим модель\n",
        "    print(\"\\nСоздание модели...\")\n",
        "    model = build_model(total_words, max_seq_len)\n",
        "\n",
        "    # Обучаем модель\n",
        "    print(\"\\nОбучение модели...\")\n",
        "    history = model.fit(X, y, epochs=epochs, batch_size=batch_size, verbose=1)\n",
        "\n",
        "    # Визуализация\n",
        "    plt.figure(figsize=(12, 6))\n",
        "    plt.subplot(1, 2, 1)\n",
        "    plt.plot(history.history['accuracy'])\n",
        "    plt.title('Точность модели')\n",
        "    plt.ylabel('Точность')\n",
        "    plt.xlabel('Эпоха')\n",
        "\n",
        "    plt.subplot(1, 2, 2)\n",
        "    plt.plot(history.history['loss'])\n",
        "    plt.title('Потери модели')\n",
        "    plt.ylabel('Потери')\n",
        "    plt.xlabel('Эпоха')\n",
        "    plt.tight_layout()\n",
        "    plt.savefig('training_history.png')\n",
        "\n",
        "    # Генерация текста с разными начальными фразами\n",
        "    seed_texts = [\n",
        "        \"the food was\",\n",
        "        \"i really enjoyed\",\n",
        "        \"this restaurant is\",\n",
        "        \"the service was\"\n",
        "    ]\n",
        "\n",
        "    print(\"\\nГенерация текста на основе разных начальных фраз:\")\n",
        "    for seed in seed_texts:\n",
        "        generated = generate_text(seed, 10, model, tokenizer, max_seq_len, total_words)\n",
        "        print(f\"\\nНачальный текст: '{seed}'\")\n",
        "        print(f\"Сгенерированный текст: '{generated}'\")\n",
        "\n",
        "    # Сохранение модели\n",
        "    model.save('yelp_lstm_model_small.h5')\n",
        "    print(\"\\nМодель сохранена как 'yelp_lstm_model_small.h5'\")"
      ]
    },
    {
      "cell_type": "code",
      "execution_count": null,
      "metadata": {
        "id": "CEsr6PzAYPXa",
        "outputId": "71abce6c-3fd2-43ca-b6b9-9a9c87a16e48"
      },
      "outputs": [
        {
          "name": "stdout",
          "output_type": "stream",
          "text": [
            "Загрузка данных...\n",
            "Датасет загружен успешно. Размер: (3000, 10)\n",
            "\n",
            "Предобработка текста...\n",
            "Используем 3000 отзывов для обучения\n",
            "Общее количество уникальных слов в словаре: 3000\n",
            "Создано 30000 последовательностей\n",
            "Форма X: (30000, 19), форма y: (30000,)\n",
            "Размер X в памяти: 2.17 МБ\n",
            "Размер y в памяти: 0.11 МБ\n",
            "\n",
            "Создание модели...\n"
          ]
        },
        {
          "data": {
            "text/html": [
              "<pre style=\"white-space:pre;overflow-x:auto;line-height:normal;font-family:Menlo,'DejaVu Sans Mono',consolas,'Courier New',monospace\"><span style=\"font-weight: bold\">Model: \"sequential_1\"</span>\n",
              "</pre>\n"
            ],
            "text/plain": [
              "\u001b[1mModel: \"sequential_1\"\u001b[0m\n"
            ]
          },
          "metadata": {},
          "output_type": "display_data"
        },
        {
          "data": {
            "text/html": [
              "<pre style=\"white-space:pre;overflow-x:auto;line-height:normal;font-family:Menlo,'DejaVu Sans Mono',consolas,'Courier New',monospace\">┏━━━━━━━━━━━━━━━━━━━━━━━━━━━━━━━━━┳━━━━━━━━━━━━━━━━━━━━━━━━┳━━━━━━━━━━━━━━━┓\n",
              "┃<span style=\"font-weight: bold\"> Layer (type)                    </span>┃<span style=\"font-weight: bold\"> Output Shape           </span>┃<span style=\"font-weight: bold\">       Param # </span>┃\n",
              "┡━━━━━━━━━━━━━━━━━━━━━━━━━━━━━━━━━╇━━━━━━━━━━━━━━━━━━━━━━━━╇━━━━━━━━━━━━━━━┩\n",
              "│ embedding_1 (<span style=\"color: #0087ff; text-decoration-color: #0087ff\">Embedding</span>)         │ ?                      │   <span style=\"color: #00af00; text-decoration-color: #00af00\">0</span> (unbuilt) │\n",
              "├─────────────────────────────────┼────────────────────────┼───────────────┤\n",
              "│ lstm_1 (<span style=\"color: #0087ff; text-decoration-color: #0087ff\">LSTM</span>)                   │ ?                      │   <span style=\"color: #00af00; text-decoration-color: #00af00\">0</span> (unbuilt) │\n",
              "├─────────────────────────────────┼────────────────────────┼───────────────┤\n",
              "│ dropout_1 (<span style=\"color: #0087ff; text-decoration-color: #0087ff\">Dropout</span>)             │ ?                      │             <span style=\"color: #00af00; text-decoration-color: #00af00\">0</span> │\n",
              "├─────────────────────────────────┼────────────────────────┼───────────────┤\n",
              "│ dense_1 (<span style=\"color: #0087ff; text-decoration-color: #0087ff\">Dense</span>)                 │ ?                      │   <span style=\"color: #00af00; text-decoration-color: #00af00\">0</span> (unbuilt) │\n",
              "├─────────────────────────────────┼────────────────────────┼───────────────┤\n",
              "│ activation_1 (<span style=\"color: #0087ff; text-decoration-color: #0087ff\">Activation</span>)       │ ?                      │             <span style=\"color: #00af00; text-decoration-color: #00af00\">0</span> │\n",
              "└─────────────────────────────────┴────────────────────────┴───────────────┘\n",
              "</pre>\n"
            ],
            "text/plain": [
              "┏━━━━━━━━━━━━━━━━━━━━━━━━━━━━━━━━━┳━━━━━━━━━━━━━━━━━━━━━━━━┳━━━━━━━━━━━━━━━┓\n",
              "┃\u001b[1m \u001b[0m\u001b[1mLayer (type)                   \u001b[0m\u001b[1m \u001b[0m┃\u001b[1m \u001b[0m\u001b[1mOutput Shape          \u001b[0m\u001b[1m \u001b[0m┃\u001b[1m \u001b[0m\u001b[1m      Param #\u001b[0m\u001b[1m \u001b[0m┃\n",
              "┡━━━━━━━━━━━━━━━━━━━━━━━━━━━━━━━━━╇━━━━━━━━━━━━━━━━━━━━━━━━╇━━━━━━━━━━━━━━━┩\n",
              "│ embedding_1 (\u001b[38;5;33mEmbedding\u001b[0m)         │ ?                      │   \u001b[38;5;34m0\u001b[0m (unbuilt) │\n",
              "├─────────────────────────────────┼────────────────────────┼───────────────┤\n",
              "│ lstm_1 (\u001b[38;5;33mLSTM\u001b[0m)                   │ ?                      │   \u001b[38;5;34m0\u001b[0m (unbuilt) │\n",
              "├─────────────────────────────────┼────────────────────────┼───────────────┤\n",
              "│ dropout_1 (\u001b[38;5;33mDropout\u001b[0m)             │ ?                      │             \u001b[38;5;34m0\u001b[0m │\n",
              "├─────────────────────────────────┼────────────────────────┼───────────────┤\n",
              "│ dense_1 (\u001b[38;5;33mDense\u001b[0m)                 │ ?                      │   \u001b[38;5;34m0\u001b[0m (unbuilt) │\n",
              "├─────────────────────────────────┼────────────────────────┼───────────────┤\n",
              "│ activation_1 (\u001b[38;5;33mActivation\u001b[0m)       │ ?                      │             \u001b[38;5;34m0\u001b[0m │\n",
              "└─────────────────────────────────┴────────────────────────┴───────────────┘\n"
            ]
          },
          "metadata": {},
          "output_type": "display_data"
        },
        {
          "data": {
            "text/html": [
              "<pre style=\"white-space:pre;overflow-x:auto;line-height:normal;font-family:Menlo,'DejaVu Sans Mono',consolas,'Courier New',monospace\"><span style=\"font-weight: bold\"> Total params: </span><span style=\"color: #00af00; text-decoration-color: #00af00\">0</span> (0.00 B)\n",
              "</pre>\n"
            ],
            "text/plain": [
              "\u001b[1m Total params: \u001b[0m\u001b[38;5;34m0\u001b[0m (0.00 B)\n"
            ]
          },
          "metadata": {},
          "output_type": "display_data"
        },
        {
          "data": {
            "text/html": [
              "<pre style=\"white-space:pre;overflow-x:auto;line-height:normal;font-family:Menlo,'DejaVu Sans Mono',consolas,'Courier New',monospace\"><span style=\"font-weight: bold\"> Trainable params: </span><span style=\"color: #00af00; text-decoration-color: #00af00\">0</span> (0.00 B)\n",
              "</pre>\n"
            ],
            "text/plain": [
              "\u001b[1m Trainable params: \u001b[0m\u001b[38;5;34m0\u001b[0m (0.00 B)\n"
            ]
          },
          "metadata": {},
          "output_type": "display_data"
        },
        {
          "data": {
            "text/html": [
              "<pre style=\"white-space:pre;overflow-x:auto;line-height:normal;font-family:Menlo,'DejaVu Sans Mono',consolas,'Courier New',monospace\"><span style=\"font-weight: bold\"> Non-trainable params: </span><span style=\"color: #00af00; text-decoration-color: #00af00\">0</span> (0.00 B)\n",
              "</pre>\n"
            ],
            "text/plain": [
              "\u001b[1m Non-trainable params: \u001b[0m\u001b[38;5;34m0\u001b[0m (0.00 B)\n"
            ]
          },
          "metadata": {},
          "output_type": "display_data"
        },
        {
          "name": "stdout",
          "output_type": "stream",
          "text": [
            "\n",
            "Обучение модели...\n",
            "Epoch 1/10\n",
            "\u001b[1m938/938\u001b[0m \u001b[32m━━━━━━━━━━━━━━━━━━━━\u001b[0m\u001b[37m\u001b[0m \u001b[1m6s\u001b[0m 5ms/step - accuracy: 0.0786 - loss: 6.1777\n",
            "Epoch 2/10\n",
            "\u001b[1m938/938\u001b[0m \u001b[32m━━━━━━━━━━━━━━━━━━━━\u001b[0m\u001b[37m\u001b[0m \u001b[1m4s\u001b[0m 5ms/step - accuracy: 0.1250 - loss: 5.2980\n",
            "Epoch 3/10\n",
            "\u001b[1m938/938\u001b[0m \u001b[32m━━━━━━━━━━━━━━━━━━━━\u001b[0m\u001b[37m\u001b[0m \u001b[1m4s\u001b[0m 4ms/step - accuracy: 0.1546 - loss: 4.9290\n",
            "Epoch 4/10\n",
            "\u001b[1m938/938\u001b[0m \u001b[32m━━━━━━━━━━━━━━━━━━━━\u001b[0m\u001b[37m\u001b[0m \u001b[1m4s\u001b[0m 4ms/step - accuracy: 0.1702 - loss: 4.6469\n",
            "Epoch 5/10\n",
            "\u001b[1m938/938\u001b[0m \u001b[32m━━━━━━━━━━━━━━━━━━━━\u001b[0m\u001b[37m\u001b[0m \u001b[1m4s\u001b[0m 4ms/step - accuracy: 0.1819 - loss: 4.4244\n",
            "Epoch 6/10\n",
            "\u001b[1m938/938\u001b[0m \u001b[32m━━━━━━━━━━━━━━━━━━━━\u001b[0m\u001b[37m\u001b[0m \u001b[1m4s\u001b[0m 4ms/step - accuracy: 0.1938 - loss: 4.2343\n",
            "Epoch 7/10\n",
            "\u001b[1m938/938\u001b[0m \u001b[32m━━━━━━━━━━━━━━━━━━━━\u001b[0m\u001b[37m\u001b[0m \u001b[1m4s\u001b[0m 4ms/step - accuracy: 0.2019 - loss: 4.0964\n",
            "Epoch 8/10\n",
            "\u001b[1m938/938\u001b[0m \u001b[32m━━━━━━━━━━━━━━━━━━━━\u001b[0m\u001b[37m\u001b[0m \u001b[1m4s\u001b[0m 4ms/step - accuracy: 0.2130 - loss: 3.9440\n",
            "Epoch 9/10\n",
            "\u001b[1m938/938\u001b[0m \u001b[32m━━━━━━━━━━━━━━━━━━━━\u001b[0m\u001b[37m\u001b[0m \u001b[1m4s\u001b[0m 4ms/step - accuracy: 0.2231 - loss: 3.8409\n",
            "Epoch 10/10\n",
            "\u001b[1m938/938\u001b[0m \u001b[32m━━━━━━━━━━━━━━━━━━━━\u001b[0m\u001b[37m\u001b[0m \u001b[1m4s\u001b[0m 4ms/step - accuracy: 0.2269 - loss: 3.7796\n",
            "\n",
            "Генерация текста на основе разных начальных фраз:\n",
            "\n",
            "Начальный текст: 'the food was'\n",
            "Сгенерированный текст: 'the food was good and the best <OOV> <OOV> <OOV> <OOV> <OOV> <OOV>'\n",
            "\n",
            "Начальный текст: 'i really enjoyed'\n",
            "Сгенерированный текст: 'i really enjoyed the <OOV> <OOV> <OOV> <OOV> <OOV> <OOV> <OOV> <OOV> <OOV>'\n",
            "\n",
            "Начальный текст: 'this restaurant is'\n",
            "Сгенерированный текст: 'this restaurant is a great place to try it and i was looking'\n"
          ]
        },
        {
          "name": "stderr",
          "output_type": "stream",
          "text": [
            "WARNING:absl:You are saving your model as an HDF5 file via `model.save()` or `keras.saving.save_model(model)`. This file format is considered legacy. We recommend using instead the native Keras format, e.g. `model.save('my_model.keras')` or `keras.saving.save_model(model, 'my_model.keras')`. \n"
          ]
        },
        {
          "name": "stdout",
          "output_type": "stream",
          "text": [
            "\n",
            "Начальный текст: 'the service was'\n",
            "Сгенерированный текст: 'the service was good and the best <OOV> <OOV> <OOV> <OOV> <OOV> <OOV>'\n",
            "\n",
            "Модель сохранена как 'yelp_lstm_model_small.h5'\n"
          ]
        },
        {
          "data": {
            "image/png": "[encoded data removed]",
            "text/plain": [
              "<Figure size 1200x600 with 2 Axes>"
            ]
          },
          "metadata": {},
          "output_type": "display_data"
        }
      ],
      "source": [
        "main()"
      ]
    }
  ],
  "metadata": {
    "kernelspec": {
      "display_name": "Python 3",
      "language": "python",
      "name": "python3"
    },
    "language_info": {
      "codemirror_mode": {
        "name": "ipython",
        "version": 3
      },
      "file_extension": ".py",
      "mimetype": "text/x-python",
      "name": "python",
      "nbconvert_exporter": "python",
      "pygments_lexer": "ipython3",
      "version": "3.12.6"
    },
    "colab": {
      "provenance": []
    }
  },
  "nbformat": 4,
  "nbformat_minor": 0
}